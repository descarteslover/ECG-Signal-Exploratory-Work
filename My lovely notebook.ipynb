{
 "cells": [
  {
   "cell_type": "markdown",
   "id": "7286dc0a",
   "metadata": {},
   "source": [
    "#### Signal representation showdown\n",
    "- I will investigate how different signal represenations affect ECG heartbeat classification using the Kaggle ECG Heartbeat Categorization Dataset. \n",
    "- My goal is to compare the effectiveness of time-domain features, frequency-domain features(via Fourier transform), and a hybrid of both for classifying 5 heartbeat types.\n",
    "- This will involve extracting relevant statistical and spectral features, training both traditional ML models and CNNs, and evaluating them using accuracy, F1-score, and confusion matrices."
   ]
  },
  {
   "cell_type": "code",
   "execution_count": null,
   "id": "b2a9b16e",
   "metadata": {},
   "outputs": [],
   "source": []
  }
 ],
 "metadata": {
  "language_info": {
   "name": "python"
  }
 },
 "nbformat": 4,
 "nbformat_minor": 5
}
